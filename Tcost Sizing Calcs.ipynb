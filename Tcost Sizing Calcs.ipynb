{
 "cells": [
  {
   "cell_type": "markdown",
   "metadata": {},
   "source": [
    "## Market Impact and Trade Sizing\n",
    "J. White \\\n",
    "5 March 2020\n",
    "\n",
    "We want to explore the effects of market impact in an Optimal Expected Utility sizing framework\n",
    "\n",
    "### Assumptions\n",
    "* We can only invest in one risky asset S and a risk-free asset R with 0 expected return\n",
    "* $\\frac{\\Delta S_T}{S_0}$ can take values $x_i$ with probabilities $p_i$\n",
    "* Investor has CRRA utility: $$u(w) = \\frac{w^{1-\\gamma}}{1-\\gamma}$$\n",
    "* Market impact is treated as a tax, which is a function of trade size and execution duration: $$\\tau = f(\\kappa, \\Delta t)$$\n",
    "* $\\tau$ is symmetric between entering and exiting\n",
    "* No rebalancing between times 0 and T\n",
    "\n",
    "### General Framework\n",
    "For a wealth fraction $\\kappa$ invested in $S$, we have expected utility:\n",
    "$$E[u] = \\frac{1}{1-\\gamma}\\sum_i p_i (1+\\kappa x_i - 2\\tau(\\kappa))^{1-\\gamma}$$\n",
    "\n",
    "As usual we want to optimize wrt $\\kappa$ so:\n",
    "$$\\frac{\\partial E[u]}{\\partial \\kappa} = \\sum_i \\frac{p_i (x_i - 2\\frac{\\partial\\tau}{\\partial\\kappa})}{(1+\\kappa x_i - 2\\tau(\\kappa))^{\\gamma}}  = 0 $$\n",
    "\n",
    "This can be solved analytically for certain distributions and $\\tau$ specs, but in general we'll just solve it numerically."
   ]
  },
  {
   "cell_type": "code",
   "execution_count": 83,
   "metadata": {},
   "outputs": [],
   "source": [
    "import numpy as np\n",
    "import matplotlib.pyplot as plt\n",
    "from ipywidgets import interactive\n",
    "\n",
    "# Definitions\n",
    "util = lambda x: (pow(x, 1 - gamma) - 1) / (1 - gamma)\n",
    "def tau(k, a):\n",
    "    return a * k\n",
    "\n",
    "def expected_util(p, x, k, a, gamma):\n",
    "    return sum(p * (pow((1 + k * x - 2 * tau(k, a)), 1 - gamma) - 1)) / (1 - gamma)\n",
    "\n",
    "# Output\n",
    "def plot_utils(p0=0.25, p1=0.5, p2=0.25, x0=-0.2, x1=0.1, x2=0.4, tau_strength=0.02, gamma=2):\n",
    "    p = np.asarray([p0, p1, p2]) / (p0 + p1 + p2)\n",
    "    x = np.asarray([x0, x1, x2])\n",
    "    dk = 0.025\n",
    "    N = 100\n",
    "    eU_base = np.zeros(N)\n",
    "    eU_impact = np.zeros(N)\n",
    "    x_axis = np.zeros(N)\n",
    "    for i,k in enumerate(range(0, N)):\n",
    "        x_axis[i] = dk * k\n",
    "        eU_base[i] = expected_util(p, x, dk * k, 0, gamma)\n",
    "        eU_impact[i] = expected_util(p, x, dk * k, tau_strength, gamma)\n",
    "    plt.plot(x_axis, eU_base, 'b', label='No Trade Impact')\n",
    "    plt.plot(x_axis, eU_impact, 'g', label='With Trade Impact')\n",
    "    plt.plot(x_axis, np.zeros(N), 'k')\n",
    "    plt.xlabel('Wealth % (Trade Size)')\n",
    "    plt.ylabel('Risk-adjusted Return')\n",
    "    plt.legend()\n",
    "    plt.show()\n",
    "    print('Expected Return (pre-Impact) = {}'.format(np.dot(p,x)))\n",
    "    print('Trade Impact at 100% size = {}'.format(2 * tau(1, tau_strength)))"
   ]
  },
  {
   "cell_type": "markdown",
   "metadata": {},
   "source": [
    "### Interactive Utlity Graphs\n",
    "* $p_i$ and $x_i$ are slider inputs and for ease are set to triplets.  Can easily be changed to 5 states to match the actual forecast procedure\n",
    "* $\\tau$ is simply linear in trade size with the slope an input slider - easy to put in more complicated/realistic functions in the definition of $\\tau$ below\n",
    "* $p_i$ sliders are unconstrained then $\\bar{p}$ is normalized to 1, so $p$ sliders can be interpreted as relative probability weights"
   ]
  },
  {
   "cell_type": "code",
   "execution_count": 84,
   "metadata": {},
   "outputs": [
    {
     "data": {
      "application/vnd.jupyter.widget-view+json": {
       "model_id": "e8bfa90804a84b74b5edbc0b319bb92f",
       "version_major": 2,
       "version_minor": 0
      },
      "text/plain": [
       "interactive(children=(FloatSlider(value=0.25, description='p0', max=1.0, step=0.01), FloatSlider(value=0.5, de…"
      ]
     },
     "metadata": {},
     "output_type": "display_data"
    }
   ],
   "source": [
    "w=interactive(plot_utils, p0=(0,1,0.01), p1=(0,1,0.01), p2=(0,1,0.01), x0=(-1,1,0.01), x1=(-1,1,0.01), x2=(-1,1,0.01),\n",
    "              tau_strength=(0,0.1,0.01), gamma=(1.01,10,0.1))\n",
    "w"
   ]
  }
 ],
 "metadata": {
  "kernelspec": {
   "display_name": "Python 3",
   "language": "python",
   "name": "python3"
  },
  "language_info": {
   "codemirror_mode": {
    "name": "ipython",
    "version": 3
   },
   "file_extension": ".py",
   "mimetype": "text/x-python",
   "name": "python",
   "nbconvert_exporter": "python",
   "pygments_lexer": "ipython3",
   "version": "3.7.4"
  }
 },
 "nbformat": 4,
 "nbformat_minor": 4
}

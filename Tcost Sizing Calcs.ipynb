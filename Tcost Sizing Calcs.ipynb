{
 "cells": [
  {
   "cell_type": "markdown",
   "metadata": {},
   "source": [
    "## Market Impact and Trade Sizing\n",
    "J. White \\\n",
    "8 March 2020\n",
    "\n",
    "We want to explore the effects of trading impact and discrete 'trap-door' scenarios in a classic Merton/Samuelson sizing framework:\n",
    "\n",
    "### Assumptions\n",
    "* We can only invest in one risky asset S and a risk-free asset R with 0 expected return\n",
    "* $\\frac{\\Delta S_T}{S_0}$ can take values $x_i$ with probabilities $p_i$\n",
    "* Investor has CRRA utility: $$u(w) = \\frac{w^{1-\\gamma}}{1-\\gamma}$$\n",
    "* Trading impact is treated as a tax, which is a function of trade size and execution duration: $$\\tau = f(\\kappa, \\Delta t)$$\n",
    "* $\\tau$ is symmetric between entering and exiting\n",
    "* No rebalancing between times 0 and T\n",
    "\n",
    "### General Framework\n",
    "For a wealth fraction $\\kappa$ invested in $S$, we have expected utility:\n",
    "$$E[u] = \\frac{1}{1-\\gamma}\\sum_i p_i (1+\\kappa x_i - 2\\tau(\\kappa))^{1-\\gamma}$$\n",
    "\n",
    "As usual we want to optimize wrt $\\kappa$ so:\n",
    "$$\\frac{\\partial E[u]}{\\partial \\kappa} = \\sum_i \\frac{p_i (x_i - 2\\frac{\\partial\\tau}{\\partial\\kappa})}{(1+\\kappa x_i - 2\\tau(\\kappa))^{\\gamma}}  = 0 $$\n",
    "\n",
    "This can be solved analytically for certain distributions and $\\tau$ specs, but in general we'll just solve it numerically.\n",
    "\n",
    "### Special Case: Normal returns\n",
    "We know if $p(x) \\approx N(\\mu, \\sigma)$ and the risk-free asset has rate $r$, then the optimal wealth fraction is:\n",
    "$$\\kappa = \\frac{\\mu - r}{\\gamma\\sigma^2}$$\n",
    "\n",
    "If $\\tau = a\\kappa$ it's equivalent to just adjusting $\\mu$, so the ratio of optimal size with/without trade impact is simply\n",
    "$1 - \\frac{2a}{\\mu - r}$\n",
    "\n",
    "### Extensions\n",
    "* What is the best form for $\\tau$, and is it symmetric?\n",
    "* Here we've suppressed the presumed dependence of $\\tau$ on $\\Delta t$, but it would be interesting to explore optimal trade speed under realistic assumptions about alpha decay etc.\n",
    "* Multiple assets with distinct trade cost functions\n",
    "* Rebalancing effects\n",
    "* Dynamic scaling rule incorporating actual trade costs"
   ]
  },
  {
   "cell_type": "markdown",
   "metadata": {},
   "source": [
    "### Interactive Code\n",
    "\n",
    "**Note: I've used a very rudminentary linear function for trade cost - to use any other 1-parameter trade cost function just replace the definition of *tau* here:**"
   ]
  },
  {
   "cell_type": "code",
   "execution_count": 152,
   "metadata": {},
   "outputs": [],
   "source": [
    "import numpy as np\n",
    "import matplotlib.pyplot as plt\n",
    "from ipywidgets import interactive, FloatSlider, BoundedFloatText, interactive_output, HBox\n",
    "\n",
    "# Definitions\n",
    "util = lambda x: (pow(x, 1 - gamma) - 1) / (1 - gamma)\n",
    "\n",
    "def tau(k, a):\n",
    "    return a * k\n",
    "\n",
    "def expected_util(p, x, k, a, gamma):\n",
    "    return sum(p * (pow((1 + k * x - 2 * tau(k, a)), 1 - gamma) - 1)) / (1 - gamma)\n",
    "\n",
    "# Output\n",
    "def plot_utils(p0, p1, p2 ,p3, p4, x0, x1, x2, x3, x4, tau_strength, gamma):\n",
    "    # Compute expected utility with and without trade-impact \n",
    "    p0 = float(p0)\n",
    "    p = np.asarray([p0, p1, p2, p3, p4]) / (p0 + p1 + p2 + p3 + p4)\n",
    "    x = np.asarray([x0, x1, x2, x3, x4])\n",
    "    dk = 0.02\n",
    "    N = 100\n",
    "    eU_base = np.zeros(N)\n",
    "    eU_impact = np.zeros(N)\n",
    "    x_axis = np.zeros(N)\n",
    "    for i,k in enumerate(range(0, N)):\n",
    "        x_axis[i] = dk * k\n",
    "        eU_base[i] = expected_util(p, x, dk * k, 0, gamma)\n",
    "        eU_impact[i] = expected_util(p, x, dk * k, tau_strength, gamma)\n",
    "    \n",
    "    # The main utility plot\n",
    "    fig, (ax1, ax2) = plt.subplots(1, 2, figsize=(9, 4))    \n",
    "    ax1.plot(x_axis, eU_base, 'b', label='E[u] No Trade Impact')\n",
    "    ax1.plot(x_axis, eU_impact, 'g', label='E[u] With Trade Impact')\n",
    "    ax1.plot(x_axis, np.dot(p, x) * x_axis, 'r', label='Expected Return')\n",
    "    ax1.plot(x_axis, np.zeros(N), 'k')\n",
    "    ax1.set_xlabel('Wealth % (Trade Size)')\n",
    "    ax1.set_ylabel('Risk-adjusted Return')\n",
    "    ax1.legend()\n",
    "    ax1.set_title('Risk-adjusted Return vs. Trade Size')\n",
    "    ax1.spines['bottom'].set_position(('data', 0))\n",
    "    \n",
    "    # Plot gradients also\n",
    "    ax2.plot(x_axis, np.gradient(eU_base), 'b', label='No Trade Impact')\n",
    "    ax2.plot(x_axis, np.gradient(eU_impact), 'g', label='With Trade Impact')\n",
    "    ax2.plot(x_axis, np.zeros(N), 'k')\n",
    "    ax2.set_xlabel('Wealth % (Trade Size)')\n",
    "    ax2.set_ylabel('Risk-adjusted Return / Size %')\n",
    "    ax2.legend()\n",
    "    ax2.set_title('Gradient wrt trade size')\n",
    "    ax2.spines['bottom'].set_position(('data', 0))\n",
    "    fig.tight_layout()\n",
    "    \n",
    "    # Some extra info for context\n",
    "    print('Expected Return (pre-Impact) = {}'.format(np.dot(p,x)))\n",
    "    print('Trade Impact at 100% size = {}'.format(2 * tau(1, tau_strength)))"
   ]
  },
  {
   "cell_type": "code",
   "execution_count": 153,
   "metadata": {},
   "outputs": [],
   "source": [
    "# Set up the interactive plots\n",
    "s1 = BoundedFloatText(min=1.01, max=10, step=0.25, value=2, description='gamma')\n",
    "s2 = BoundedFloatText(min=0, max=1, step=0.001, value=0.02, description='tau_strength')\n",
    "s3 = BoundedFloatText(min=0, max=1, step=0.05, value=0.05, description='p0')\n",
    "s4 = BoundedFloatText(min=0, max=1, step=0.05, value=0.20, description='p1')\n",
    "s5 = BoundedFloatText(min=0, max=1, step=0.05, value=0.5, description='p2')\n",
    "s6 = BoundedFloatText(min=0, max=1, step=0.05, value=0.20, description='p3')\n",
    "s7 = BoundedFloatText(min=0, max=1, step=0.05, value=0.05, description='p4')\n",
    "s8 = BoundedFloatText(min=-1, max=1, step=0.05, value=-0.3, description='x0')\n",
    "s9 = BoundedFloatText(min=-1, max=1, step=0.05, value=-0.1, description='x1')\n",
    "s10 = BoundedFloatText(min=-1, max=1, step=0.05, value=0.1, description='x2')\n",
    "s11 = BoundedFloatText(min=-1, max=1, step=0.05, value=0.3, description='x3')\n",
    "s12 = BoundedFloatText(min=-1, max=1, step=0.05, value=0.5, description='x4')\n",
    "plots = interactive_output(plot_utils, {'gamma':s1, 'tau_strength':s2, 'p0':s3, 'p1':s4, 'p2':s5, 'p3':s6, 'p4':s7, \n",
    "                                      'x0':s8, 'x1':s9, 'x2':s10, 'x3':s11, 'x4':s12})"
   ]
  },
  {
   "cell_type": "markdown",
   "metadata": {},
   "source": [
    "### Interactive Utlity Graphs\n",
    "* $p_i$ inputs are unconstrained then $\\bar{p}$ is normalized behind the scenes, so $p$ inputs can be interpreted as relative probability weights\n",
    "* It can be tricky relating trade size in this thought experiement with only one risky asset/trade to real-world cases with many correlated/uncorrelated trades.  One way is to select $\\gamma$ (risk-aversion) so that a well-known 'reference' trade has optimal size 1, then sizes for all others trades can be thought of as *relative* sizes vs. the reference trade"
   ]
  },
  {
   "cell_type": "code",
   "execution_count": 154,
   "metadata": {},
   "outputs": [
    {
     "data": {
      "application/vnd.jupyter.widget-view+json": {
       "model_id": "44a2bb94d5d24d8c8cda2d5173e06876",
       "version_major": 2,
       "version_minor": 0
      },
      "text/plain": [
       "HBox(children=(BoundedFloatText(value=0.05, description='p0', max=1.0, step=0.05), BoundedFloatText(value=0.2,…"
      ]
     },
     "metadata": {},
     "output_type": "display_data"
    },
    {
     "data": {
      "application/vnd.jupyter.widget-view+json": {
       "model_id": "9ca8db649fe04582b93bb98fd8fc4da5",
       "version_major": 2,
       "version_minor": 0
      },
      "text/plain": [
       "HBox(children=(BoundedFloatText(value=-0.3, description='x0', max=1.0, min=-1.0, step=0.05), BoundedFloatText(…"
      ]
     },
     "metadata": {},
     "output_type": "display_data"
    },
    {
     "data": {
      "application/vnd.jupyter.widget-view+json": {
       "model_id": "c60a48c185714738bf55f2fcf0093735",
       "version_major": 2,
       "version_minor": 0
      },
      "text/plain": [
       "HBox(children=(BoundedFloatText(value=2.0, description='gamma', max=10.0, min=1.01, step=0.25), BoundedFloatTe…"
      ]
     },
     "metadata": {},
     "output_type": "display_data"
    },
    {
     "data": {
      "application/vnd.jupyter.widget-view+json": {
       "model_id": "c60af48f3d00431badbe54d3baf90b80",
       "version_major": 2,
       "version_minor": 0
      },
      "text/plain": [
       "Output(outputs=({'output_type': 'stream', 'text': 'Expected Return (pre-Impact) = 0.1\\nTrade Impact at 100% si…"
      ]
     },
     "metadata": {},
     "output_type": "display_data"
    }
   ],
   "source": [
    "display(HBox([s3, s4, s5, s6, s7]))\n",
    "display(HBox([s8, s9, s10, s11, s12]))\n",
    "display(HBox([s1,s2]))\n",
    "display(plots)"
   ]
  }
 ],
 "metadata": {
  "kernelspec": {
   "display_name": "Python 3",
   "language": "python",
   "name": "python3"
  },
  "language_info": {
   "codemirror_mode": {
    "name": "ipython",
    "version": 3
   },
   "file_extension": ".py",
   "mimetype": "text/x-python",
   "name": "python",
   "nbconvert_exporter": "python",
   "pygments_lexer": "ipython3",
   "version": "3.7.4"
  }
 },
 "nbformat": 4,
 "nbformat_minor": 4
}

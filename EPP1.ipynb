{
 "cells": [
  {
   "cell_type": "markdown",
   "metadata": {},
   "source": [
    "# Optimal Endowment Payout Ratio\n",
    "James white\n",
    "25 March, 2020\n",
    "\n",
    "We want to find the maximum payout ratio which, given an investment opportunity set, preserves the purchasing power of the Endowment.  The goal of preserving the Endowment's purchasing power is essentially equivalent to the goal of maintaining indefinitely a payout which which does not decrease in real terms over time.  The framework of optimizing the expected utility of consumption is appropriate here, as we care about both mean and median outcomes over long periods of time.  \n",
    "\n",
    "### Setup\n",
    "The Endowment has CRRA utility:\n",
    "\n",
    "$$u(w) = \\frac{w^{1-\\gamma}}{1-\\gamma}$$\n",
    "\n",
    "and budget equation:\n",
    "\n",
    "$$ U = \\sum_t u(\\pi w_t)e^{\\rho t}  $$\n",
    "\n",
    "where $\\pi$ is the payout ratio and $\\rho$ is the Endowment's personal discount rate.  The Endowment can invest in a risk-free asset with rate $r$ and a risky portfolio with expected return $\\mu$ and volatility $\\sigma$, so the wealth process is:'\n",
    "\n",
    "$$w_t = w_0e^{(r + \\kappa(\\mu - r) - \\pi - \\frac{1}{2}\\kappa^2\\sigma^2)t + \\kappa\\sigma dW_t}  $$\n",
    "\n",
    "Where $\\kappa$ is the fraction of Endowment assets invested in the risky portfolio.  We want to find $\\pi$ and $\\kappa$ to maximize U - happily this is a special case of the Merton portfolio problem, which Merton has solved analytically:\n",
    "\n",
    "$$ \\kappa = \\frac{\\mu - r}{\\gamma\\sigma^2} $$\n",
    "\n",
    "$$ \\pi = \\frac{\\rho}{\\gamma} - (1-\\gamma)(\\frac{\\kappa(\\mu - r)}{2\\gamma} - \\frac{r}{\\gamma})$$\n",
    "\n",
    "### Output\n",
    "We input $\\gamma$, $\\sigma$, $\\rho$ and $r$, and show the optimal $\\kappa$ and $\\pi$ as function of the risky investment return $\\mu$:"
   ]
  },
  {
   "cell_type": "code",
   "execution_count": 1,
   "metadata": {},
   "outputs": [
    {
     "data": {
      "application/vnd.jupyter.widget-view+json": {
       "model_id": "25502d0894844373bb820c50d437c0d2",
       "version_major": 2,
       "version_minor": 0
      },
      "text/plain": [
       "interactive(children=(FloatSlider(value=2.0, description='gamma', max=4.0, min=1.1), FloatSlider(value=0.16, d…"
      ]
     },
     "metadata": {},
     "output_type": "display_data"
    }
   ],
   "source": [
    "import numpy as np\n",
    "import matplotlib.pyplot as plt\n",
    "from ipywidgets import interactive\n",
    "\n",
    "def plot_optum(gamma = 2, sigma = 0.16, rho = 0.02, r = 0):\n",
    "    mu_vec = np.linspace(0, 0.1, 100, endpoint = True)\n",
    "    \n",
    "    kappa = (mu_vec - r) / (gamma * pow(sigma, 2))\n",
    "    pi = (rho / gamma) - (1 - gamma)*(kappa * (mu_vec - r) / (2 * gamma) - r / gamma)\n",
    "    \n",
    "    # Display plots\n",
    "    fig, ax1 = plt.subplots()\n",
    "    ax1.set_xlabel('mu')\n",
    "    ax1.set_ylabel('kappa')\n",
    "    ax1.plot(mu_vec, kappa)\n",
    "\n",
    "    ax2 = ax1.twinx()  \n",
    "    ax2.set_ylabel('pi') \n",
    "    ax2.plot(mu_vec, pi)\n",
    "    ax2.grid('y')\n",
    "    \n",
    "\n",
    "    fig.tight_layout()  # otherwise the right y-label is slightly clipped\n",
    "    plt.show()\n",
    "\n",
    "w = interactive(plot_optum, gamma=(1.1,4,0.1), sigma=(0.02, 0.24, 0.02), rho = (0,0.1,0.01), r = (0,0.1,0.01))\n",
    "w"
   ]
  }
 ],
 "metadata": {
  "kernelspec": {
   "display_name": "Python 3",
   "language": "python",
   "name": "python3"
  },
  "language_info": {
   "codemirror_mode": {
    "name": "ipython",
    "version": 3
   },
   "file_extension": ".py",
   "mimetype": "text/x-python",
   "name": "python",
   "nbconvert_exporter": "python",
   "pygments_lexer": "ipython3",
   "version": "3.7.3"
  }
 },
 "nbformat": 4,
 "nbformat_minor": 4
}
